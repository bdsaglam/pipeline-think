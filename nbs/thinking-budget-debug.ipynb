{
  "cells": [
    {
      "cell_type": "code",
      "execution_count": 1,
      "metadata": {},
      "outputs": [
        {
          "data": {
            "text/plain": [
              "True"
            ]
          },
          "execution_count": 1,
          "metadata": {},
          "output_type": "execute_result"
        }
      ],
      "source": [
        "from dotenv import load_dotenv\n",
        "load_dotenv()"
      ]
    },
    {
      "cell_type": "code",
      "execution_count": null,
      "metadata": {},
      "outputs": [],
      "source": [
        "import os\n",
        "os.environ['CUDA_VISIBLE_DEVICES'] = '3'"
      ]
    },
    {
      "cell_type": "code",
      "execution_count": 3,
      "metadata": {},
      "outputs": [
        {
          "name": "stdout",
          "output_type": "stream",
          "text": [
            "INFO 03-21 15:44:45 __init__.py:183] Automatically detected platform cuda.\n"
          ]
        }
      ],
      "source": [
        "from vllm import LLM"
      ]
    },
    {
      "cell_type": "code",
      "execution_count": 4,
      "metadata": {},
      "outputs": [],
      "source": [
        "import gc\n",
        "import os\n",
        "\n",
        "import torch\n",
        "\n",
        "\n",
        "def clear():\n",
        "    \"\"\"Clear GPU memory\"\"\"\n",
        "    visible_devices = os.getenv(\"CUDA_VISIBLE_DEVICES\")\n",
        "    print(f\"Clearing GPU memory for {visible_devices}\")\n",
        "    torch.cuda.empty_cache()\n",
        "    gc.collect()"
      ]
    },
    {
      "cell_type": "code",
      "execution_count": 5,
      "metadata": {
        "id": "pGkjsYIWnpsw"
      },
      "outputs": [
        {
          "data": {
            "text/plain": [
              "{'question': 'Natalia sold clips to 48 of her friends in April, and then she sold half as many clips in May. How many clips did Natalia sell altogether in April and May?',\n",
              " 'answer': 'Natalia sold 48/2 = <<48/2=24>>24 clips in May.\\nNatalia sold 48+24 = <<48+24=72>>72 clips altogether in April and May.\\n#### 72'}"
            ]
          },
          "execution_count": 5,
          "metadata": {},
          "output_type": "execute_result"
        }
      ],
      "source": [
        "from datasets import load_dataset\n",
        "\n",
        "ds = load_dataset('openai/gsm8k', 'main', split='train[:100]')\n",
        "ds[0]"
      ]
    },
    {
      "cell_type": "code",
      "execution_count": null,
      "metadata": {
        "id": "C3OpzsDQkZSZ"
      },
      "outputs": [
        {
          "name": "stdout",
          "output_type": "stream",
          "text": [
            "[2025-03-21 15:44:52,660] [INFO] [real_accelerator.py:219:get_accelerator] Setting ds_accelerator to cuda (auto detect)\n"
          ]
        },
        {
          "name": "stderr",
          "output_type": "stream",
          "text": [
            "/home/baris/miniconda3/envs/verifiers/compiler_compat/ld: cannot find -laio: No such file or directory\n",
            "collect2: error: ld returned 1 exit status\n",
            "/home/baris/miniconda3/envs/verifiers/compiler_compat/ld: warning: libpthread.so.0, needed by /usr/local/cuda-12.3/lib64/libcufile.so, not found (try using -rpath or -rpath-link)\n",
            "/home/baris/miniconda3/envs/verifiers/compiler_compat/ld: warning: libstdc++.so.6, needed by /usr/local/cuda-12.3/lib64/libcufile.so, not found (try using -rpath or -rpath-link)\n",
            "/home/baris/miniconda3/envs/verifiers/compiler_compat/ld: warning: libm.so.6, needed by /usr/local/cuda-12.3/lib64/libcufile.so, not found (try using -rpath or -rpath-link)\n",
            "/home/baris/miniconda3/envs/verifiers/compiler_compat/ld: /usr/local/cuda-12.3/lib64/libcufile.so: undefined reference to `std::runtime_error::~runtime_error()@GLIBCXX_3.4'\n",
            "/home/baris/miniconda3/envs/verifiers/compiler_compat/ld: /usr/local/cuda-12.3/lib64/libcufile.so: undefined reference to `__gxx_personality_v0@CXXABI_1.3'\n",
            "/home/baris/miniconda3/envs/verifiers/compiler_compat/ld: /usr/local/cuda-12.3/lib64/libcufile.so: undefined reference to `std::ostream::tellp()@GLIBCXX_3.4'\n",
            "/home/baris/miniconda3/envs/verifiers/compiler_compat/ld: /usr/local/cuda-12.3/lib64/libcufile.so: undefined reference to `std::chrono::_V2::steady_clock::now()@GLIBCXX_3.4.19'\n",
            "/home/baris/miniconda3/envs/verifiers/compiler_compat/ld: /usr/local/cuda-12.3/lib64/libcufile.so: undefined reference to `std::string::_M_replace_aux(unsigned long, unsigned long, unsigned long, char)@GLIBCXX_3.4'\n",
            "/home/baris/miniconda3/envs/verifiers/compiler_compat/ld: /usr/local/cuda-12.3/lib64/libcufile.so: undefined reference to `typeinfo for bool@CXXABI_1.3'\n",
            "/home/baris/miniconda3/envs/verifiers/compiler_compat/ld: /usr/local/cuda-12.3/lib64/libcufile.so: undefined reference to `std::__throw_logic_error(char const*)@GLIBCXX_3.4'\n",
            "/home/baris/miniconda3/envs/verifiers/compiler_compat/ld: /usr/local/cuda-12.3/lib64/libcufile.so: undefined reference to `VTT for std::basic_ostringstream<char, std::char_traits<char>, std::allocator<char> >@GLIBCXX_3.4'\n",
            "/home/baris/miniconda3/envs/verifiers/compiler_compat/ld: /usr/local/cuda-12.3/lib64/libcufile.so: undefined reference to `vtable for std::logic_error@GLIBCXX_3.4'\n",
            "/home/baris/miniconda3/envs/verifiers/compiler_compat/ld: /usr/local/cuda-12.3/lib64/libcufile.so: undefined reference to `std::locale::~locale()@GLIBCXX_3.4'\n",
            "/home/baris/miniconda3/envs/verifiers/compiler_compat/ld: /usr/local/cuda-12.3/lib64/libcufile.so: undefined reference to `std::basic_string<char, std::char_traits<char>, std::allocator<char> >::basic_string(std::string const&, unsigned long, unsigned long)@GLIBCXX_3.4'\n",
            "/home/baris/miniconda3/envs/verifiers/compiler_compat/ld: /usr/local/cuda-12.3/lib64/libcufile.so: undefined reference to `__cxa_end_catch@CXXABI_1.3'\n",
            "/home/baris/miniconda3/envs/verifiers/compiler_compat/ld: /usr/local/cuda-12.3/lib64/libcufile.so: undefined reference to `VTT for std::basic_ofstream<char, std::char_traits<char> >@GLIBCXX_3.4'\n",
            "/home/baris/miniconda3/envs/verifiers/compiler_compat/ld: /usr/local/cuda-12.3/lib64/libcufile.so: undefined reference to `std::logic_error::~logic_error()@GLIBCXX_3.4'\n",
            "/home/baris/miniconda3/envs/verifiers/compiler_compat/ld: /usr/local/cuda-12.3/lib64/libcufile.so: undefined reference to `vtable for __cxxabiv1::__si_class_type_info@CXXABI_1.3'\n",
            "/home/baris/miniconda3/envs/verifiers/compiler_compat/ld: /usr/local/cuda-12.3/lib64/libcufile.so: undefined reference to `std::basic_ios<char, std::char_traits<char> >::_M_cache_locale(std::locale const&)@GLIBCXX_3.4'\n",
            "/home/baris/miniconda3/envs/verifiers/compiler_compat/ld: /usr/local/cuda-12.3/lib64/libcufile.so: undefined reference to `VTT for std::basic_stringstream<char, std::char_traits<char>, std::allocator<char> >@GLIBCXX_3.4'\n",
            "/home/baris/miniconda3/envs/verifiers/compiler_compat/ld: /usr/local/cuda-12.3/lib64/libcufile.so: undefined reference to `operator new[](unsigned long)@GLIBCXX_3.4'\n",
            "/home/baris/miniconda3/envs/verifiers/compiler_compat/ld: /usr/local/cuda-12.3/lib64/libcufile.so: undefined reference to `std::string::_M_leak_hard()@GLIBCXX_3.4'\n",
            "/home/baris/miniconda3/envs/verifiers/compiler_compat/ld: /usr/local/cuda-12.3/lib64/libcufile.so: undefined reference to `vtable for std::basic_ifstream<char, std::char_traits<char> >@GLIBCXX_3.4'\n",
            "/home/baris/miniconda3/envs/verifiers/compiler_compat/ld: /usr/local/cuda-12.3/lib64/libcufile.so: undefined reference to `std::basic_streambuf<wchar_t, std::char_traits<wchar_t> >::basic_streambuf(std::basic_streambuf<wchar_t, std::char_traits<wchar_t> > const&)@GLIBCXX_3.4'\n",
            "/home/baris/miniconda3/envs/verifiers/compiler_compat/ld: /usr/local/cuda-12.3/lib64/libcufile.so: undefined reference to `std::string::append(char const*, unsigned long)@GLIBCXX_3.4'\n",
            "/home/baris/miniconda3/envs/verifiers/compiler_compat/ld: /usr/local/cuda-12.3/lib64/libcufile.so: undefined reference to `std::basic_string<char, std::char_traits<char>, std::allocator<char> >::basic_string(std::string const&)@GLIBCXX_3.4'\n",
            "/home/baris/miniconda3/envs/verifiers/compiler_compat/ld: /usr/local/cuda-12.3/lib64/libcufile.so: undefined reference to `typeinfo for unsigned short@CXXABI_1.3'\n",
            "/home/baris/miniconda3/envs/verifiers/compiler_compat/ld: /usr/local/cuda-12.3/lib64/libcufile.so: undefined reference to `std::string::resize(unsigned long, char)@GLIBCXX_3.4'\n",
            "/home/baris/miniconda3/envs/verifiers/compiler_compat/ld: /usr/local/cuda-12.3/lib64/libcufile.so: undefined reference to `typeinfo for char const*@CXXABI_1.3'\n",
            "/home/baris/miniconda3/envs/verifiers/compiler_compat/ld: /usr/local/cuda-12.3/lib64/libcufile.so: undefined reference to `std::ctype<char>::_M_widen_init() const@GLIBCXX_3.4.11'\n",
            "/home/baris/miniconda3/envs/verifiers/compiler_compat/ld: /usr/local/cuda-12.3/lib64/libcufile.so: undefined reference to `std::__throw_invalid_argument(char const*)@GLIBCXX_3.4'\n",
            "/home/baris/miniconda3/envs/verifiers/compiler_compat/ld: /usr/local/cuda-12.3/lib64/libcufile.so: undefined reference to `std::locale::operator=(std::locale const&)@GLIBCXX_3.4'\n",
            "/home/baris/miniconda3/envs/verifiers/compiler_compat/ld: /usr/local/cuda-12.3/lib64/libcufile.so: undefined reference to `std::basic_ios<wchar_t, std::char_traits<wchar_t> >::_M_cache_locale(std::locale const&)@GLIBCXX_3.4'\n",
            "/home/baris/miniconda3/envs/verifiers/compiler_compat/ld: /usr/local/cuda-12.3/lib64/libcufile.so: undefined reference to `std::_Rb_tree_decrement(std::_Rb_tree_node_base const*)@GLIBCXX_3.4'\n",
            "/home/baris/miniconda3/envs/verifiers/compiler_compat/ld: /usr/local/cuda-12.3/lib64/libcufile.so: undefined reference to `__cxa_free_exception@CXXABI_1.3'\n",
            "/home/baris/miniconda3/envs/verifiers/compiler_compat/ld: /usr/local/cuda-12.3/lib64/libcufile.so: undefined reference to `std::condition_variable::notify_one()@GLIBCXX_3.4.11'\n",
            "/home/baris/miniconda3/envs/verifiers/compiler_compat/ld: /usr/local/cuda-12.3/lib64/libcufile.so: undefined reference to `std::ios_base::Init::~Init()@GLIBCXX_3.4'\n",
            "/home/baris/miniconda3/envs/verifiers/compiler_compat/ld: /usr/local/cuda-12.3/lib64/libcufile.so: undefined reference to `std::basic_string<char, std::char_traits<char>, std::allocator<char> >::~basic_string()@GLIBCXX_3.4'\n",
            "/home/baris/miniconda3/envs/verifiers/compiler_compat/ld: /usr/local/cuda-12.3/lib64/libcufile.so: undefined reference to `__cxa_pure_virtual@CXXABI_1.3'\n",
            "/home/baris/miniconda3/envs/verifiers/compiler_compat/ld: /usr/local/cuda-12.3/lib64/libcufile.so: undefined reference to `std::ostream::flush()@GLIBCXX_3.4'\n",
            "/home/baris/miniconda3/envs/verifiers/compiler_compat/ld: /usr/local/cuda-12.3/lib64/libcufile.so: undefined reference to `vtable for __cxxabiv1::__class_type_info@CXXABI_1.3'\n",
            "/home/baris/miniconda3/envs/verifiers/compiler_compat/ld: /usr/local/cuda-12.3/lib64/libcufile.so: undefined reference to `__cxa_rethrow@CXXABI_1.3'\n",
            "/home/baris/miniconda3/envs/verifiers/compiler_compat/ld: /usr/local/cuda-12.3/lib64/libcufile.so: undefined reference to `vtable for std::basic_stringbuf<char, std::char_traits<char>, std::allocator<char> >@GLIBCXX_3.4'\n",
            "/home/baris/miniconda3/envs/verifiers/compiler_compat/ld: /usr/local/cuda-12.3/lib64/libcufile.so: undefined reference to `std::basic_fstream<char, std::char_traits<char> >::~basic_fstream()@GLIBCXX_3.4'\n",
            "/home/baris/miniconda3/envs/verifiers/compiler_compat/ld: /usr/local/cuda-12.3/lib64/libcufile.so: undefined reference to `std::string::compare(char const*) const@GLIBCXX_3.4'\n",
            "/home/baris/miniconda3/envs/verifiers/compiler_compat/ld: /usr/local/cuda-12.3/lib64/libcufile.so: undefined reference to `VTT for std::basic_ostringstream<wchar_t, std::char_traits<wchar_t>, std::allocator<wchar_t> >@GLIBCXX_3.4'\n",
            "/home/baris/miniconda3/envs/verifiers/compiler_compat/ld: /usr/local/cuda-12.3/lib64/libcufile.so: undefined reference to `std::locale::locale()@GLIBCXX_3.4'\n",
            "/home/baris/miniconda3/envs/verifiers/compiler_compat/ld: /usr/local/cuda-12.3/lib64/libcufile.so: undefined reference to `std::chrono::_V2::system_clock::now()@GLIBCXX_3.4.19'\n",
            "/home/baris/miniconda3/envs/verifiers/compiler_compat/ld: /usr/local/cuda-12.3/lib64/libcufile.so: undefined reference to `VTT for std::basic_ifstream<char, std::char_traits<char> >@GLIBCXX_3.4'\n",
            "/home/baris/miniconda3/envs/verifiers/compiler_compat/ld: /usr/local/cuda-12.3/lib64/libcufile.so: undefined reference to `std::_Hash_bytes(void const*, unsigned long, unsigned long)@CXXABI_1.3.5'\n",
            "/home/baris/miniconda3/envs/verifiers/compiler_compat/ld: /usr/local/cuda-12.3/lib64/libcufile.so: undefined reference to `std::ostream& std::ostream::_M_insert<long long>(long long)@GLIBCXX_3.4.9'\n",
            "/home/baris/miniconda3/envs/verifiers/compiler_compat/ld: /usr/local/cuda-12.3/lib64/libcufile.so: undefined reference to `typeinfo for char*@CXXABI_1.3'\n",
            "/home/baris/miniconda3/envs/verifiers/compiler_compat/ld: /usr/local/cuda-12.3/lib64/libcufile.so: undefined reference to `std::__detail::_Prime_rehash_policy::_M_need_rehash(unsigned long, unsigned long, unsigned long) const@GLIBCXX_3.4.18'\n",
            "/home/baris/miniconda3/envs/verifiers/compiler_compat/ld: /usr/local/cuda-12.3/lib64/libcufile.so: undefined reference to `vtable for std::out_of_range@GLIBCXX_3.4'\n",
            "/home/baris/miniconda3/envs/verifiers/compiler_compat/ld: /usr/local/cuda-12.3/lib64/libcufile.so: undefined reference to `std::ostream& std::ostream::_M_insert<unsigned long>(unsigned long)@GLIBCXX_3.4.9'\n",
            "/home/baris/miniconda3/envs/verifiers/compiler_compat/ld: /usr/local/cuda-12.3/lib64/libcufile.so: undefined reference to `std::_Rb_tree_increment(std::_Rb_tree_node_base const*)@GLIBCXX_3.4'\n",
            "/home/baris/miniconda3/envs/verifiers/compiler_compat/ld: /usr/local/cuda-12.3/lib64/libcufile.so: undefined reference to `std::ios_base::~ios_base()@GLIBCXX_3.4'\n",
            "/home/baris/miniconda3/envs/verifiers/compiler_compat/ld: /usr/local/cuda-12.3/lib64/libcufile.so: undefined reference to `std::range_error::~range_error()@GLIBCXX_3.4'\n",
            "/home/baris/miniconda3/envs/verifiers/compiler_compat/ld: /usr/local/cuda-12.3/lib64/libcufile.so: undefined reference to `std::__basic_file<char>::~__basic_file()@GLIBCXX_3.4'\n",
            "/home/baris/miniconda3/envs/verifiers/compiler_compat/ld: /usr/local/cuda-12.3/lib64/libcufile.so: undefined reference to `__cxa_guard_acquire@CXXABI_1.3'\n",
            "/home/baris/miniconda3/envs/verifiers/compiler_compat/ld: /usr/local/cuda-12.3/lib64/libcufile.so: undefined reference to `std::ostream& std::ostream::_M_insert<bool>(bool)@GLIBCXX_3.4.9'\n",
            "/home/baris/miniconda3/envs/verifiers/compiler_compat/ld: /usr/local/cuda-12.3/lib64/libcufile.so: undefined reference to `vtable for std::overflow_error@GLIBCXX_3.4'\n",
            "/home/baris/miniconda3/envs/verifiers/compiler_compat/ld: /usr/local/cuda-12.3/lib64/libcufile.so: undefined reference to `VTT for std::basic_fstream<char, std::char_traits<char> >@GLIBCXX_3.4'\n",
            "/home/baris/miniconda3/envs/verifiers/compiler_compat/ld: /usr/local/cuda-12.3/lib64/libcufile.so: undefined reference to `vtable for std::range_error@GLIBCXX_3.4'\n",
            "/home/baris/miniconda3/envs/verifiers/compiler_compat/ld: /usr/local/cuda-12.3/lib64/libcufile.so: undefined reference to `vtable for std::basic_ios<char, std::char_traits<char> >@GLIBCXX_3.4'\n",
            "/home/baris/miniconda3/envs/verifiers/compiler_compat/ld: /usr/local/cuda-12.3/lib64/libcufile.so: undefined reference to `vtable for std::basic_filebuf<char, std::char_traits<char> >@GLIBCXX_3.4'\n",
            "/home/baris/miniconda3/envs/verifiers/compiler_compat/ld: /usr/local/cuda-12.3/lib64/libcufile.so: undefined reference to `operator delete[](void*)@GLIBCXX_3.4'\n",
            "/home/baris/miniconda3/envs/verifiers/compiler_compat/ld: /usr/local/cuda-12.3/lib64/libcufile.so: undefined reference to `vtable for std::basic_stringstream<char, std::char_traits<char>, std::allocator<char> >@GLIBCXX_3.4'\n",
            "/home/baris/miniconda3/envs/verifiers/compiler_compat/ld: /usr/local/cuda-12.3/lib64/libcufile.so: undefined reference to `std::basic_string<char, std::char_traits<char>, std::allocator<char> >::basic_string(unsigned long, char, std::allocator<char> const&)@GLIBCXX_3.4'\n",
            "/home/baris/miniconda3/envs/verifiers/compiler_compat/ld: /usr/local/cuda-12.3/lib64/libcufile.so: undefined reference to `std::__detail::_List_node_base::_M_transfer(std::__detail::_List_node_base*, std::__detail::_List_node_base*)@GLIBCXX_3.4.15'\n",
            "/home/baris/miniconda3/envs/verifiers/compiler_compat/ld: /usr/local/cuda-12.3/lib64/libcufile.so: undefined reference to `std::string::replace(unsigned long, unsigned long, char const*, unsigned long)@GLIBCXX_3.4'\n",
            "/home/baris/miniconda3/envs/verifiers/compiler_compat/ld: /usr/local/cuda-12.3/lib64/libcufile.so: undefined reference to `typeinfo for std::exception@GLIBCXX_3.4'\n",
            "/home/baris/miniconda3/envs/verifiers/compiler_compat/ld: /usr/local/cuda-12.3/lib64/libcufile.so: undefined reference to `std::basic_string<wchar_t, std::char_traits<wchar_t>, std::allocator<wchar_t> >::_Rep::_M_destroy(std::allocator<wchar_t> const&)@GLIBCXX_3.4'\n",
            "/home/baris/miniconda3/envs/verifiers/compiler_compat/ld: /usr/local/cuda-12.3/lib64/libcufile.so: undefined reference to `std::istream& std::istream::_M_extract<double>(double&)@GLIBCXX_3.4.9'\n",
            "/home/baris/miniconda3/envs/verifiers/compiler_compat/ld: /usr/local/cuda-12.3/lib64/libcufile.so: undefined reference to `std::basic_filebuf<char, std::char_traits<char> >::close()@GLIBCXX_3.4'\n",
            "/home/baris/miniconda3/envs/verifiers/compiler_compat/ld: /usr/local/cuda-12.3/lib64/libcufile.so: undefined reference to `vtable for std::basic_fstream<char, std::char_traits<char> >@GLIBCXX_3.4'\n",
            "/home/baris/miniconda3/envs/verifiers/compiler_compat/ld: /usr/local/cuda-12.3/lib64/libcufile.so: undefined reference to `std::basic_ifstream<char, std::char_traits<char> >::basic_ifstream(char const*, std::_Ios_Openmode)@GLIBCXX_3.4'\n",
            "/home/baris/miniconda3/envs/verifiers/compiler_compat/ld: /usr/local/cuda-12.3/lib64/libcufile.so: undefined reference to `std::string::append(std::string const&)@GLIBCXX_3.4'\n",
            "/home/baris/miniconda3/envs/verifiers/compiler_compat/ld: /usr/local/cuda-12.3/lib64/libcufile.so: undefined reference to `operator new(unsigned long)@GLIBCXX_3.4'\n",
            "/home/baris/miniconda3/envs/verifiers/compiler_compat/ld: /usr/local/cuda-12.3/lib64/libcufile.so: undefined reference to `VTT for std::basic_istringstream<wchar_t, std::char_traits<wchar_t>, std::allocator<wchar_t> >@GLIBCXX_3.4'\n",
            "/home/baris/miniconda3/envs/verifiers/compiler_compat/ld: /usr/local/cuda-12.3/lib64/libcufile.so: undefined reference to `typeinfo for unsigned int@CXXABI_1.3'\n",
            "/home/baris/miniconda3/envs/verifiers/compiler_compat/ld: /usr/local/cuda-12.3/lib64/libcufile.so: undefined reference to `std::string::append(char const*)@GLIBCXX_3.4'\n",
            "/home/baris/miniconda3/envs/verifiers/compiler_compat/ld: /usr/local/cuda-12.3/lib64/libcufile.so: undefined reference to `vtable for std::domain_error@GLIBCXX_3.4'\n",
            "/home/baris/miniconda3/envs/verifiers/compiler_compat/ld: /usr/local/cuda-12.3/lib64/libcufile.so: undefined reference to `std::string::find(char, unsigned long) const@GLIBCXX_3.4'\n",
            "/home/baris/miniconda3/envs/verifiers/compiler_compat/ld: /usr/local/cuda-12.3/lib64/libcufile.so: undefined reference to `std::ostream::put(char)@GLIBCXX_3.4'\n",
            "/home/baris/miniconda3/envs/verifiers/compiler_compat/ld: /usr/local/cuda-12.3/lib64/libcufile.so: undefined reference to `typeinfo for int@CXXABI_1.3'\n",
            "/home/baris/miniconda3/envs/verifiers/compiler_compat/ld: /usr/local/cuda-12.3/lib64/libcufile.so: undefined reference to `std::__throw_bad_alloc()@GLIBCXX_3.4'\n",
            "/home/baris/miniconda3/envs/verifiers/compiler_compat/ld: /usr/local/cuda-12.3/lib64/libcufile.so: undefined reference to `__cxa_thread_atexit@CXXABI_1.3.7'\n",
            "/home/baris/miniconda3/envs/verifiers/compiler_compat/ld: /usr/local/cuda-12.3/lib64/libcufile.so: undefined reference to `typeinfo for unsigned int*@CXXABI_1.3'\n",
            "/home/baris/miniconda3/envs/verifiers/compiler_compat/ld: /usr/local/cuda-12.3/lib64/libcufile.so: undefined reference to `std::_Rb_tree_increment(std::_Rb_tree_node_base*)@GLIBCXX_3.4'\n",
            "/home/baris/miniconda3/envs/verifiers/compiler_compat/ld: /usr/local/cuda-12.3/lib64/libcufile.so: undefined reference to `std::basic_ifstream<char, std::char_traits<char> >::~basic_ifstream()@GLIBCXX_3.4'\n",
            "/home/baris/miniconda3/envs/verifiers/compiler_compat/ld: /usr/local/cuda-12.3/lib64/libcufile.so: undefined reference to `std::ios_base::Init::Init()@GLIBCXX_3.4'\n",
            "/home/baris/miniconda3/envs/verifiers/compiler_compat/ld: /usr/local/cuda-12.3/lib64/libcufile.so: undefined reference to `std::condition_variable::condition_variable()@GLIBCXX_3.4.11'\n",
            "/home/baris/miniconda3/envs/verifiers/compiler_compat/ld: /usr/local/cuda-12.3/lib64/libcufile.so: undefined reference to `std::basic_filebuf<char, std::char_traits<char> >::basic_filebuf()@GLIBCXX_3.4'\n",
            "/home/baris/miniconda3/envs/verifiers/compiler_compat/ld: /usr/local/cuda-12.3/lib64/libcufile.so: undefined reference to `VTT for std::basic_istringstream<char, std::char_traits<char>, std::allocator<char> >@GLIBCXX_3.4'\n",
            "/home/baris/miniconda3/envs/verifiers/compiler_compat/ld: /usr/local/cuda-12.3/lib64/libcufile.so: undefined reference to `std::domain_error::~domain_error()@GLIBCXX_3.4'\n",
            "/home/baris/miniconda3/envs/verifiers/compiler_compat/ld: /usr/local/cuda-12.3/lib64/libcufile.so: undefined reference to `std::cerr@GLIBCXX_3.4'\n",
            "/home/baris/miniconda3/envs/verifiers/compiler_compat/ld: /usr/local/cuda-12.3/lib64/libcufile.so: undefined reference to `std::string::find(char const*, unsigned long, unsigned long) const@GLIBCXX_3.4'\n",
            "/home/baris/miniconda3/envs/verifiers/compiler_compat/ld: /usr/local/cuda-12.3/lib64/libcufile.so: undefined reference to `vtable for std::basic_istringstream<char, std::char_traits<char>, std::allocator<char> >@GLIBCXX_3.4'\n",
            "/home/baris/miniconda3/envs/verifiers/compiler_compat/ld: /usr/local/cuda-12.3/lib64/libcufile.so: undefined reference to `std::basic_string<char, std::char_traits<char>, std::allocator<char> >::basic_string(std::allocator<char> const&)@GLIBCXX_3.4'\n",
            "/home/baris/miniconda3/envs/verifiers/compiler_compat/ld: /usr/local/cuda-12.3/lib64/libcufile.so: undefined reference to `std::basic_stringbuf<char, std::char_traits<char>, std::allocator<char> >::str() const@GLIBCXX_3.4'\n",
            "/home/baris/miniconda3/envs/verifiers/compiler_compat/ld: /usr/local/cuda-12.3/lib64/libcufile.so: undefined reference to `vtable for std::invalid_argument@GLIBCXX_3.4'\n",
            "/home/baris/miniconda3/envs/verifiers/compiler_compat/ld: /usr/local/cuda-12.3/lib64/libcufile.so: undefined reference to `typeinfo for void*@CXXABI_1.3'\n",
            "/home/baris/miniconda3/envs/verifiers/compiler_compat/ld: /usr/local/cuda-12.3/lib64/libcufile.so: undefined reference to `std::string::assign(std::string const&)@GLIBCXX_3.4'\n",
            "/home/baris/miniconda3/envs/verifiers/compiler_compat/ld: /usr/local/cuda-12.3/lib64/libcufile.so: undefined reference to `std::basic_ostringstream<char, std::char_traits<char>, std::allocator<char> >::~basic_ostringstream()@GLIBCXX_3.4'\n",
            "/home/baris/miniconda3/envs/verifiers/compiler_compat/ld: /usr/local/cuda-12.3/lib64/libcufile.so: undefined reference to `std::_Rb_tree_rebalance_for_erase(std::_Rb_tree_node_base*, std::_Rb_tree_node_base&)@GLIBCXX_3.4'\n",
            "/home/baris/miniconda3/envs/verifiers/compiler_compat/ld: /usr/local/cuda-12.3/lib64/libcufile.so: undefined reference to `typeinfo for unsigned long@CXXABI_1.3'\n",
            "/home/baris/miniconda3/envs/verifiers/compiler_compat/ld: /usr/local/cuda-12.3/lib64/libcufile.so: undefined reference to `std::__detail::_List_node_base::_M_hook(std::__detail::_List_node_base*)@GLIBCXX_3.4.15'\n",
            "/home/baris/miniconda3/envs/verifiers/compiler_compat/ld: /usr/local/cuda-12.3/lib64/libcufile.so: undefined reference to `std::__detail::_List_node_base::_M_unhook()@GLIBCXX_3.4.15'\n",
            "/home/baris/miniconda3/envs/verifiers/compiler_compat/ld: /usr/local/cuda-12.3/lib64/libcufile.so: undefined reference to `vtable for std::basic_ostringstream<wchar_t, std::char_traits<wchar_t>, std::allocator<wchar_t> >@GLIBCXX_3.4'\n",
            "/home/baris/miniconda3/envs/verifiers/compiler_compat/ld: /usr/local/cuda-12.3/lib64/libcufile.so: undefined reference to `std::basic_stringbuf<char, std::char_traits<char>, std::allocator<char> >::_M_sync(char*, unsigned long, unsigned long)@GLIBCXX_3.4'\n",
            "/home/baris/miniconda3/envs/verifiers/compiler_compat/ld: /usr/local/cuda-12.3/lib64/libcufile.so: undefined reference to `std::basic_iostream<char, std::char_traits<char> >::~basic_iostream()@GLIBCXX_3.4'\n",
            "/home/baris/miniconda3/envs/verifiers/compiler_compat/ld: /usr/local/cuda-12.3/lib64/libcufile.so: undefined reference to `std::locale::locale(std::locale const&)@GLIBCXX_3.4'\n",
            "/home/baris/miniconda3/envs/verifiers/compiler_compat/ld: /usr/local/cuda-12.3/lib64/libcufile.so: undefined reference to `vtable for std::basic_istringstream<wchar_t, std::char_traits<wchar_t>, std::allocator<wchar_t> >@GLIBCXX_3.4'\n",
            "/home/baris/miniconda3/envs/verifiers/compiler_compat/ld: /usr/local/cuda-12.3/lib64/libcufile.so: undefined reference to `log2f@GLIBC_2.2.5'\n",
            "/home/baris/miniconda3/envs/verifiers/compiler_compat/ld: /usr/local/cuda-12.3/lib64/libcufile.so: undefined reference to `std::ostream::operator<<(std::basic_streambuf<char, std::char_traits<char> >*)@GLIBCXX_3.4'\n",
            "/home/baris/miniconda3/envs/verifiers/compiler_compat/ld: /usr/local/cuda-12.3/lib64/libcufile.so: undefined reference to `vtable for std::basic_streambuf<wchar_t, std::char_traits<wchar_t> >@GLIBCXX_3.4'\n",
            "/home/baris/miniconda3/envs/verifiers/compiler_compat/ld: /usr/local/cuda-12.3/lib64/libcufile.so: undefined reference to `std::exception::~exception()@GLIBCXX_3.4'\n",
            "/home/baris/miniconda3/envs/verifiers/compiler_compat/ld: /usr/local/cuda-12.3/lib64/libcufile.so: undefined reference to `std::string::_Rep::_S_create(unsigned long, unsigned long, std::allocator<char> const&)@GLIBCXX_3.4'\n",
            "/home/baris/miniconda3/envs/verifiers/compiler_compat/ld: /usr/local/cuda-12.3/lib64/libcufile.so: undefined reference to `std::__basic_file<char>::is_open() const@GLIBCXX_3.4'\n",
            "/home/baris/miniconda3/envs/verifiers/compiler_compat/ld: /usr/local/cuda-12.3/lib64/libcufile.so: undefined reference to `std::basic_istringstream<char, std::char_traits<char>, std::allocator<char> >::~basic_istringstream()@GLIBCXX_3.4'\n",
            "/home/baris/miniconda3/envs/verifiers/compiler_compat/ld: /usr/local/cuda-12.3/lib64/libcufile.so: undefined reference to `std::string::swap(std::string&)@GLIBCXX_3.4'\n",
            "/home/baris/miniconda3/envs/verifiers/compiler_compat/ld: /usr/local/cuda-12.3/lib64/libcufile.so: undefined reference to `vtable for std::basic_ostringstream<char, std::char_traits<char>, std::allocator<char> >@GLIBCXX_3.4'\n",
            "/home/baris/miniconda3/envs/verifiers/compiler_compat/ld: /usr/local/cuda-12.3/lib64/libcufile.so: undefined reference to `std::basic_streambuf<char, std::char_traits<char> >::basic_streambuf(std::basic_streambuf<char, std::char_traits<char> > const&)@GLIBCXX_3.4'\n",
            "/home/baris/miniconda3/envs/verifiers/compiler_compat/ld: /usr/local/cuda-12.3/lib64/libcufile.so: undefined reference to `std::basic_ios<char, std::char_traits<char> >::init(std::basic_streambuf<char, std::char_traits<char> >*)@GLIBCXX_3.4'\n",
            "/home/baris/miniconda3/envs/verifiers/compiler_compat/ld: /usr/local/cuda-12.3/lib64/libcufile.so: undefined reference to `std::__throw_bad_cast()@GLIBCXX_3.4'\n",
            "/home/baris/miniconda3/envs/verifiers/compiler_compat/ld: /usr/local/cuda-12.3/lib64/libcufile.so: undefined reference to `std::basic_ios<char, std::char_traits<char> >::clear(std::_Ios_Iostate)@GLIBCXX_3.4'\n",
            "/home/baris/miniconda3/envs/verifiers/compiler_compat/ld: /usr/local/cuda-12.3/lib64/libcufile.so: undefined reference to `std::basic_streambuf<wchar_t, std::char_traits<wchar_t> >::operator=(std::basic_streambuf<wchar_t, std::char_traits<wchar_t> > const&)@GLIBCXX_3.4'\n",
            "/home/baris/miniconda3/envs/verifiers/compiler_compat/ld: /usr/local/cuda-12.3/lib64/libcufile.so: undefined reference to `typeinfo for long*@CXXABI_1.3'\n",
            "/home/baris/miniconda3/envs/verifiers/compiler_compat/ld: /usr/local/cuda-12.3/lib64/libcufile.so: undefined reference to `operator delete(void*)@GLIBCXX_3.4'\n",
            "/home/baris/miniconda3/envs/verifiers/compiler_compat/ld: /usr/local/cuda-12.3/lib64/libcufile.so: undefined reference to `std::ostream::operator<<(int)@GLIBCXX_3.4'\n",
            "/home/baris/miniconda3/envs/verifiers/compiler_compat/ld: /usr/local/cuda-12.3/lib64/libcufile.so: undefined reference to `std::string::_Rep::_S_empty_rep_storage@GLIBCXX_3.4'\n",
            "/home/baris/miniconda3/envs/verifiers/compiler_compat/ld: /usr/local/cuda-12.3/lib64/libcufile.so: undefined reference to `std::string::_Rep::_M_destroy(std::allocator<char> const&)@GLIBCXX_3.4'\n",
            "/home/baris/miniconda3/envs/verifiers/compiler_compat/ld: /usr/local/cuda-12.3/lib64/libcufile.so: undefined reference to `std::basic_iostream<wchar_t, std::char_traits<wchar_t> >::~basic_iostream()@GLIBCXX_3.4'\n",
            "/home/baris/miniconda3/envs/verifiers/compiler_compat/ld: /usr/local/cuda-12.3/lib64/libcufile.so: undefined reference to `vtable for std::runtime_error@GLIBCXX_3.4'\n",
            "/home/baris/miniconda3/envs/verifiers/compiler_compat/ld: /usr/local/cuda-12.3/lib64/libcufile.so: undefined reference to `vtable for std::basic_ofstream<char, std::char_traits<char> >@GLIBCXX_3.4'\n",
            "/home/baris/miniconda3/envs/verifiers/compiler_compat/ld: /usr/local/cuda-12.3/lib64/libcufile.so: undefined reference to `std::_Rb_tree_insert_and_rebalance(bool, std::_Rb_tree_node_base*, std::_Rb_tree_node_base*, std::_Rb_tree_node_base&)@GLIBCXX_3.4'\n",
            "/home/baris/miniconda3/envs/verifiers/compiler_compat/ld: /usr/local/cuda-12.3/lib64/libcufile.so: undefined reference to `std::basic_stringstream<char, std::char_traits<char>, std::allocator<char> >::~basic_stringstream()@GLIBCXX_3.4'\n",
            "/home/baris/miniconda3/envs/verifiers/compiler_compat/ld: /usr/local/cuda-12.3/lib64/libcufile.so: undefined reference to `VTT for std::basic_stringstream<wchar_t, std::char_traits<wchar_t>, std::allocator<wchar_t> >@GLIBCXX_3.4'\n",
            "/home/baris/miniconda3/envs/verifiers/compiler_compat/ld: /usr/local/cuda-12.3/lib64/libcufile.so: undefined reference to `std::ostream& std::ostream::_M_insert<long>(long)@GLIBCXX_3.4.9'\n",
            "/home/baris/miniconda3/envs/verifiers/compiler_compat/ld: /usr/local/cuda-12.3/lib64/libcufile.so: undefined reference to `std::istream::get()@GLIBCXX_3.4'\n",
            "/home/baris/miniconda3/envs/verifiers/compiler_compat/ld: /usr/local/cuda-12.3/lib64/libcufile.so: undefined reference to `typeinfo for unsigned long long@CXXABI_1.3'\n",
            "/home/baris/miniconda3/envs/verifiers/compiler_compat/ld: /usr/local/cuda-12.3/lib64/libcufile.so: undefined reference to `std::basic_ostream<char, std::char_traits<char> >& std::operator<< <std::char_traits<char> >(std::basic_ostream<char, std::char_traits<char> >&, char const*)@GLIBCXX_3.4'\n",
            "/home/baris/miniconda3/envs/verifiers/compiler_compat/ld: /usr/local/cuda-12.3/lib64/libcufile.so: undefined reference to `std::out_of_range::~out_of_range()@GLIBCXX_3.4'\n",
            "/home/baris/miniconda3/envs/verifiers/compiler_compat/ld: /usr/local/cuda-12.3/lib64/libcufile.so: undefined reference to `std::length_error::~length_error()@GLIBCXX_3.4'\n",
            "/home/baris/miniconda3/envs/verifiers/compiler_compat/ld: /usr/local/cuda-12.3/lib64/libcufile.so: undefined reference to `std::basic_ostream<char, std::char_traits<char> >& std::__ostream_insert<char, std::char_traits<char> >(std::basic_ostream<char, std::char_traits<char> >&, char const*, long)@GLIBCXX_3.4.9'\n",
            "/home/baris/miniconda3/envs/verifiers/compiler_compat/ld: /usr/local/cuda-12.3/lib64/libcufile.so: undefined reference to `std::invalid_argument::~invalid_argument()@GLIBCXX_3.4'\n",
            "/home/baris/miniconda3/envs/verifiers/compiler_compat/ld: /usr/local/cuda-12.3/lib64/libcufile.so: undefined reference to `std::basic_string<wchar_t, std::char_traits<wchar_t>, std::allocator<wchar_t> >::swap(std::basic_string<wchar_t, std::char_traits<wchar_t>, std::allocator<wchar_t> >&)@GLIBCXX_3.4'\n",
            "/home/baris/miniconda3/envs/verifiers/compiler_compat/ld: /usr/local/cuda-12.3/lib64/libcufile.so: undefined reference to `std::cout@GLIBCXX_3.4'\n",
            "/home/baris/miniconda3/envs/verifiers/compiler_compat/ld: /usr/local/cuda-12.3/lib64/libcufile.so: undefined reference to `std::ostream& std::ostream::_M_insert<unsigned long long>(unsigned long long)@GLIBCXX_3.4.9'\n",
            "/home/baris/miniconda3/envs/verifiers/compiler_compat/ld: /usr/local/cuda-12.3/lib64/libcufile.so: undefined reference to `std::ostream& std::ostream::_M_insert<void const*>(void const*)@GLIBCXX_3.4.9'\n",
            "/home/baris/miniconda3/envs/verifiers/compiler_compat/ld: /usr/local/cuda-12.3/lib64/libcufile.so: undefined reference to `vtable for std::underflow_error@GLIBCXX_3.4'\n",
            "/home/baris/miniconda3/envs/verifiers/compiler_compat/ld: /usr/local/cuda-12.3/lib64/libcufile.so: undefined reference to `vtable for std::basic_streambuf<char, std::char_traits<char> >@GLIBCXX_3.4'\n",
            "/home/baris/miniconda3/envs/verifiers/compiler_compat/ld: /usr/local/cuda-12.3/lib64/libcufile.so: undefined reference to `typeinfo for std::out_of_range@GLIBCXX_3.4'\n",
            "/home/baris/miniconda3/envs/verifiers/compiler_compat/ld: /usr/local/cuda-12.3/lib64/libcufile.so: undefined reference to `__cxa_allocate_exception@CXXABI_1.3'\n",
            "/home/baris/miniconda3/envs/verifiers/compiler_compat/ld: /usr/local/cuda-12.3/lib64/libcufile.so: undefined reference to `vtable for std::basic_ios<wchar_t, std::char_traits<wchar_t> >@GLIBCXX_3.4'\n",
            "/home/baris/miniconda3/envs/verifiers/compiler_compat/ld: /usr/local/cuda-12.3/lib64/libcufile.so: undefined reference to `typeinfo for void const*@CXXABI_1.3'\n",
            "/home/baris/miniconda3/envs/verifiers/compiler_compat/ld: /usr/local/cuda-12.3/lib64/libcufile.so: undefined reference to `std::basic_ios<wchar_t, std::char_traits<wchar_t> >::init(std::basic_streambuf<wchar_t, std::char_traits<wchar_t> >*)@GLIBCXX_3.4'\n",
            "/home/baris/miniconda3/envs/verifiers/compiler_compat/ld: /usr/local/cuda-12.3/lib64/libcufile.so: undefined reference to `std::string::reserve(unsigned long)@GLIBCXX_3.4'\n",
            "/home/baris/miniconda3/envs/verifiers/compiler_compat/ld: /usr/local/cuda-12.3/lib64/libcufile.so: undefined reference to `__cxa_begin_catch@CXXABI_1.3'\n",
            "/home/baris/miniconda3/envs/verifiers/compiler_compat/ld: /usr/local/cuda-12.3/lib64/libcufile.so: undefined reference to `typeinfo for long@CXXABI_1.3'\n",
            "/home/baris/miniconda3/envs/verifiers/compiler_compat/ld: /usr/local/cuda-12.3/lib64/libcufile.so: undefined reference to `std::basic_string<wchar_t, std::char_traits<wchar_t>, std::allocator<wchar_t> >::_Rep::_S_empty_rep_storage@GLIBCXX_3.4'\n",
            "/home/baris/miniconda3/envs/verifiers/compiler_compat/ld: /usr/local/cuda-12.3/lib64/libcufile.so: undefined reference to `std::string::_M_leak()@GLIBCXX_3.4'\n",
            "/home/baris/miniconda3/envs/verifiers/compiler_compat/ld: /usr/local/cuda-12.3/lib64/libcufile.so: undefined reference to `std::basic_filebuf<char, std::char_traits<char> >::open(char const*, std::_Ios_Openmode)@GLIBCXX_3.4'\n",
            "/home/baris/miniconda3/envs/verifiers/compiler_compat/ld: /usr/local/cuda-12.3/lib64/libcufile.so: undefined reference to `std::basic_stringbuf<wchar_t, std::char_traits<wchar_t>, std::allocator<wchar_t> >::_M_sync(wchar_t*, unsigned long, unsigned long)@GLIBCXX_3.4'\n",
            "/home/baris/miniconda3/envs/verifiers/compiler_compat/ld: /usr/local/cuda-12.3/lib64/libcufile.so: undefined reference to `std::istream::getline(char*, long, char)@GLIBCXX_3.4'\n",
            "/home/baris/miniconda3/envs/verifiers/compiler_compat/ld: /usr/local/cuda-12.3/lib64/libcufile.so: undefined reference to `std::basic_istream<char, std::char_traits<char> >& std::getline<char, std::char_traits<char>, std::allocator<char> >(std::basic_istream<char, std::char_traits<char> >&, std::basic_string<char, std::char_traits<char>, std::allocator<char> >&, char)@GLIBCXX_3.4'\n",
            "/home/baris/miniconda3/envs/verifiers/compiler_compat/ld: /usr/local/cuda-12.3/lib64/libcufile.so: undefined reference to `vtable for std::basic_stringstream<wchar_t, std::char_traits<wchar_t>, std::allocator<wchar_t> >@GLIBCXX_3.4'\n",
            "/home/baris/miniconda3/envs/verifiers/compiler_compat/ld: /usr/local/cuda-12.3/lib64/libcufile.so: undefined reference to `std::condition_variable::~condition_variable()@GLIBCXX_3.4.11'\n",
            "/home/baris/miniconda3/envs/verifiers/compiler_compat/ld: /usr/local/cuda-12.3/lib64/libcufile.so: undefined reference to `vtable for std::basic_stringbuf<wchar_t, std::char_traits<wchar_t>, std::allocator<wchar_t> >@GLIBCXX_3.4'\n",
            "/home/baris/miniconda3/envs/verifiers/compiler_compat/ld: /usr/local/cuda-12.3/lib64/libcufile.so: undefined reference to `std::string::insert(unsigned long, char const*, unsigned long)@GLIBCXX_3.4'\n",
            "/home/baris/miniconda3/envs/verifiers/compiler_compat/ld: /usr/local/cuda-12.3/lib64/libcufile.so: undefined reference to `std::string::assign(char const*, unsigned long)@GLIBCXX_3.4'\n",
            "/home/baris/miniconda3/envs/verifiers/compiler_compat/ld: /usr/local/cuda-12.3/lib64/libcufile.so: undefined reference to `typeinfo for unsigned char@CXXABI_1.3'\n",
            "/home/baris/miniconda3/envs/verifiers/compiler_compat/ld: /usr/local/cuda-12.3/lib64/libcufile.so: undefined reference to `std::ios_base::ios_base()@GLIBCXX_3.4'\n",
            "/home/baris/miniconda3/envs/verifiers/compiler_compat/ld: /usr/local/cuda-12.3/lib64/libcufile.so: undefined reference to `std::__throw_out_of_range(char const*)@GLIBCXX_3.4'\n",
            "/home/baris/miniconda3/envs/verifiers/compiler_compat/ld: /usr/local/cuda-12.3/lib64/libcufile.so: undefined reference to `std::overflow_error::~overflow_error()@GLIBCXX_3.4'\n",
            "/home/baris/miniconda3/envs/verifiers/compiler_compat/ld: /usr/local/cuda-12.3/lib64/libcufile.so: undefined reference to `std::__throw_length_error(char const*)@GLIBCXX_3.4'\n",
            "/home/baris/miniconda3/envs/verifiers/compiler_compat/ld: /usr/local/cuda-12.3/lib64/libcufile.so: undefined reference to `std::__throw_system_error(int)@GLIBCXX_3.4.11'\n",
            "/home/baris/miniconda3/envs/verifiers/compiler_compat/ld: /usr/local/cuda-12.3/lib64/libcufile.so: undefined reference to `std::basic_ofstream<char, std::char_traits<char> >::close()@GLIBCXX_3.4'\n",
            "/home/baris/miniconda3/envs/verifiers/compiler_compat/ld: /usr/local/cuda-12.3/lib64/libcufile.so: undefined reference to `std::ostream& std::ostream::_M_insert<double>(double)@GLIBCXX_3.4.9'\n",
            "/home/baris/miniconda3/envs/verifiers/compiler_compat/ld: /usr/local/cuda-12.3/lib64/libcufile.so: undefined reference to `std::basic_streambuf<char, std::char_traits<char> >::operator=(std::basic_streambuf<char, std::char_traits<char> > const&)@GLIBCXX_3.4'\n",
            "/home/baris/miniconda3/envs/verifiers/compiler_compat/ld: /usr/local/cuda-12.3/lib64/libcufile.so: undefined reference to `typeinfo for long long@CXXABI_1.3'\n",
            "/home/baris/miniconda3/envs/verifiers/compiler_compat/ld: /usr/local/cuda-12.3/lib64/libcufile.so: undefined reference to `std::basic_string<char, std::char_traits<char>, std::allocator<char> >::basic_string(char const*, unsigned long, std::allocator<char> const&)@GLIBCXX_3.4'\n",
            "/home/baris/miniconda3/envs/verifiers/compiler_compat/ld: /usr/local/cuda-12.3/lib64/libcufile.so: undefined reference to `std::basic_ifstream<char, std::char_traits<char> >::close()@GLIBCXX_3.4'\n",
            "/home/baris/miniconda3/envs/verifiers/compiler_compat/ld: /usr/local/cuda-12.3/lib64/libcufile.so: undefined reference to `__cxa_guard_release@CXXABI_1.3'\n",
            "/home/baris/miniconda3/envs/verifiers/compiler_compat/ld: /usr/local/cuda-12.3/lib64/libcufile.so: undefined reference to `__cxa_throw@CXXABI_1.3'\n",
            "/home/baris/miniconda3/envs/verifiers/compiler_compat/ld: /usr/local/cuda-12.3/lib64/libcufile.so: undefined reference to `std::underflow_error::~underflow_error()@GLIBCXX_3.4'\n",
            "/home/baris/miniconda3/envs/verifiers/compiler_compat/ld: /usr/local/cuda-12.3/lib64/libcufile.so: undefined reference to `std::_Rb_tree_decrement(std::_Rb_tree_node_base*)@GLIBCXX_3.4'\n",
            "/home/baris/miniconda3/envs/verifiers/compiler_compat/ld: /usr/local/cuda-12.3/lib64/libcufile.so: undefined reference to `vtable for std::length_error@GLIBCXX_3.4'\n",
            "/home/baris/miniconda3/envs/verifiers/compiler_compat/ld: /usr/local/cuda-12.3/lib64/libcufile.so: undefined reference to `std::basic_filebuf<char, std::char_traits<char> >::~basic_filebuf()@GLIBCXX_3.4'\n",
            "collect2: error: ld returned 1 exit status\n"
          ]
        },
        {
          "name": "stdout",
          "output_type": "stream",
          "text": [
            "Clearing GPU memory for 3\n",
            "INFO 03-21 15:45:06 config.py:520] This model supports multiple tasks: {'score', 'classify', 'embed', 'generate', 'reward'}. Defaulting to 'generate'.\n",
            "INFO 03-21 15:45:06 llm_engine.py:232] Initializing an LLM engine (v0.7.0) with config: model='Qwen/QwQ-32B', speculative_config=None, tokenizer='Qwen/QwQ-32B', skip_tokenizer_init=False, tokenizer_mode=auto, revision=None, override_neuron_config=None, tokenizer_revision=None, trust_remote_code=True, dtype=torch.bfloat16, max_seq_len=4096, download_dir=None, load_format=LoadFormat.AUTO, tensor_parallel_size=1, pipeline_parallel_size=1, disable_custom_all_reduce=False, quantization=None, enforce_eager=False, kv_cache_dtype=auto,  device_config=cuda, decoding_config=DecodingConfig(guided_decoding_backend='xgrammar'), observability_config=ObservabilityConfig(otlp_traces_endpoint=None, collect_model_forward_time=False, collect_model_execute_time=False), seed=0, served_model_name=Qwen/QwQ-32B, num_scheduler_steps=1, multi_step_stream_outputs=True, enable_prefix_caching=False, chunked_prefill_enabled=False, use_async_output_proc=True, disable_mm_preprocessor_cache=False, mm_processor_kwargs=None, pooler_config=None, compilation_config={\"splitting_ops\":[],\"compile_sizes\":[],\"cudagraph_capture_sizes\":[256,248,240,232,224,216,208,200,192,184,176,168,160,152,144,136,128,120,112,104,96,88,80,72,64,56,48,40,32,24,16,8,4,2,1],\"max_capture_size\":256}, use_cached_outputs=False, \n",
            "INFO 03-21 15:45:07 cuda.py:225] Using Flash Attention backend.\n",
            "INFO 03-21 15:45:07 model_runner.py:1110] Starting to load model Qwen/QwQ-32B...\n",
            "INFO 03-21 15:45:08 weight_utils.py:251] Using model weights format ['*.safetensors']\n"
          ]
        },
        {
          "data": {
            "application/vnd.jupyter.widget-view+json": {
              "model_id": "e5b355a16c204e72a51b8c336cf0cd00",
              "version_major": 2,
              "version_minor": 0
            },
            "text/plain": [
              "model-00001-of-00014.safetensors:   6%|6         | 304M/4.89G [00:00<?, ?B/s]"
            ]
          },
          "metadata": {},
          "output_type": "display_data"
        },
        {
          "data": {
            "application/vnd.jupyter.widget-view+json": {
              "model_id": "251bd45c17074c638f86b15cd5084d30",
              "version_major": 2,
              "version_minor": 0
            },
            "text/plain": [
              "model-00006-of-00014.safetensors:   6%|6         | 294M/4.88G [00:00<?, ?B/s]"
            ]
          },
          "metadata": {},
          "output_type": "display_data"
        },
        {
          "data": {
            "application/vnd.jupyter.widget-view+json": {
              "model_id": "313fbec901b04a8e91c2c27f66fbdfc8",
              "version_major": 2,
              "version_minor": 0
            },
            "text/plain": [
              "model-00005-of-00014.safetensors:   3%|3         | 168M/4.88G [00:00<?, ?B/s]"
            ]
          },
          "metadata": {},
          "output_type": "display_data"
        },
        {
          "data": {
            "application/vnd.jupyter.widget-view+json": {
              "model_id": "c44b3b4adbc44314a6ba01b85de43ac6",
              "version_major": 2,
              "version_minor": 0
            },
            "text/plain": [
              "model-00003-of-00014.safetensors:   5%|5         | 252M/4.88G [00:00<?, ?B/s]"
            ]
          },
          "metadata": {},
          "output_type": "display_data"
        },
        {
          "data": {
            "application/vnd.jupyter.widget-view+json": {
              "model_id": "1a0457fd45f04fe6929bfcd445a10406",
              "version_major": 2,
              "version_minor": 0
            },
            "text/plain": [
              "model-00008-of-00014.safetensors:   4%|3         | 178M/4.88G [00:00<?, ?B/s]"
            ]
          },
          "metadata": {},
          "output_type": "display_data"
        },
        {
          "data": {
            "application/vnd.jupyter.widget-view+json": {
              "model_id": "fe857c18fbd04bb1a8c7b8c14e132ff9",
              "version_major": 2,
              "version_minor": 0
            },
            "text/plain": [
              "model-00007-of-00014.safetensors:   4%|3         | 189M/4.88G [00:00<?, ?B/s]"
            ]
          },
          "metadata": {},
          "output_type": "display_data"
        },
        {
          "data": {
            "application/vnd.jupyter.widget-view+json": {
              "model_id": "f0bc6344cd7843c09a2014fb9ce757b3",
              "version_major": 2,
              "version_minor": 0
            },
            "text/plain": [
              "model-00002-of-00014.safetensors:   6%|5         | 273M/4.88G [00:00<?, ?B/s]"
            ]
          },
          "metadata": {},
          "output_type": "display_data"
        },
        {
          "data": {
            "application/vnd.jupyter.widget-view+json": {
              "model_id": "f739d937eec54fceb8735fe922e8df55",
              "version_major": 2,
              "version_minor": 0
            },
            "text/plain": [
              "model-00004-of-00014.safetensors:   4%|3         | 189M/4.88G [00:00<?, ?B/s]"
            ]
          },
          "metadata": {},
          "output_type": "display_data"
        },
        {
          "data": {
            "application/vnd.jupyter.widget-view+json": {
              "model_id": "d65fffab94024a20b6f241f1419c819a",
              "version_major": 2,
              "version_minor": 0
            },
            "text/plain": [
              "model-00009-of-00014.safetensors:   0%|          | 0.00/4.88G [00:00<?, ?B/s]"
            ]
          },
          "metadata": {},
          "output_type": "display_data"
        },
        {
          "data": {
            "application/vnd.jupyter.widget-view+json": {
              "model_id": "e3987d9a7b394354acb4ba7ccc41be89",
              "version_major": 2,
              "version_minor": 0
            },
            "text/plain": [
              "model-00010-of-00014.safetensors:   0%|          | 0.00/4.88G [00:00<?, ?B/s]"
            ]
          },
          "metadata": {},
          "output_type": "display_data"
        },
        {
          "data": {
            "application/vnd.jupyter.widget-view+json": {
              "model_id": "3752b3260fdc41bd97232c6eb6f5dd8a",
              "version_major": 2,
              "version_minor": 0
            },
            "text/plain": [
              "model-00011-of-00014.safetensors:   0%|          | 0.00/4.88G [00:00<?, ?B/s]"
            ]
          },
          "metadata": {},
          "output_type": "display_data"
        },
        {
          "data": {
            "application/vnd.jupyter.widget-view+json": {
              "model_id": "d4c54651bf8a4cb79df4eb422da87666",
              "version_major": 2,
              "version_minor": 0
            },
            "text/plain": [
              "model-00012-of-00014.safetensors:   0%|          | 0.00/4.88G [00:00<?, ?B/s]"
            ]
          },
          "metadata": {},
          "output_type": "display_data"
        },
        {
          "data": {
            "application/vnd.jupyter.widget-view+json": {
              "model_id": "3a4dff709cc347b0b4112107e4ad7544",
              "version_major": 2,
              "version_minor": 0
            },
            "text/plain": [
              "model-00013-of-00014.safetensors:   0%|          | 0.00/4.88G [00:00<?, ?B/s]"
            ]
          },
          "metadata": {},
          "output_type": "display_data"
        },
        {
          "data": {
            "application/vnd.jupyter.widget-view+json": {
              "model_id": "77a70a5a028e45639c1647773612982b",
              "version_major": 2,
              "version_minor": 0
            },
            "text/plain": [
              "model-00014-of-00014.safetensors:   0%|          | 0.00/2.12G [00:00<?, ?B/s]"
            ]
          },
          "metadata": {},
          "output_type": "display_data"
        }
      ],
      "source": [
        "from vllm import LLM\n",
        "from vllm.sampling_params import SamplingParams\n",
        "\n",
        "from verifiers.utils.cuda import get_half_precision_dtype\n",
        "\n",
        "\n",
        "clear()\n",
        "\n",
        "model = 'Qwen/QwQ-32B'\n",
        "# model = \"deepseek-ai/DeepSeek-R1-Distill-Qwen-1.5B\"\n",
        "\n",
        "llm = LLM(\n",
        "    model=model,\n",
        "    dtype=get_half_precision_dtype(),\n",
        "    gpu_memory_utilization=0.8,\n",
        "    max_model_len=4096,\n",
        "    trust_remote_code=True,\n",
        ")\n"
      ]
    },
    {
      "cell_type": "code",
      "execution_count": null,
      "metadata": {},
      "outputs": [
        {
          "ename": "",
          "evalue": "",
          "output_type": "error",
          "traceback": [
            "\u001b[1;31mRunning cells with '/usr/bin/python3' requires the ipykernel package.\n",
            "\u001b[1;31mRun the following command to install 'ipykernel' into the Python environment. \n",
            "\u001b[1;31mCommand: '/usr/bin/python3 -m pip install ipykernel -U --user --force-reinstall'"
          ]
        }
      ],
      "source": [
        "example = ds[0]\n",
        "prompt = example['question']\n",
        "print(prompt)"
      ]
    },
    {
      "cell_type": "code",
      "execution_count": null,
      "metadata": {},
      "outputs": [
        {
          "ename": "",
          "evalue": "",
          "output_type": "error",
          "traceback": [
            "\u001b[1;31mRunning cells with '/usr/bin/python3' requires the ipykernel package.\n",
            "\u001b[1;31mRun the following command to install 'ipykernel' into the Python environment. \n",
            "\u001b[1;31mCommand: '/usr/bin/python3 -m pip install ipykernel -U --user --force-reinstall'"
          ]
        }
      ],
      "source": [
        "def chat_completion(messages, max_tokens=512, temperature=0.5, top_p=0.95, **kwargs):\n",
        "    \"\"\"\n",
        "    Perform chat completion with the given messages and token limit.\n",
        "\n",
        "    Args:\n",
        "        messages: List of message dictionaries with role and content\n",
        "        max_tokens: Maximum tokens to generate in response\n",
        "\n",
        "    Returns:\n",
        "        Generated text from the model\n",
        "    \"\"\"\n",
        "    sampling_params = SamplingParams(\n",
        "        max_tokens=max_tokens,\n",
        "        temperature=temperature,\n",
        "        top_p=top_p,\n",
        "        **kwargs,\n",
        "    )\n",
        "\n",
        "    outputs = llm.chat(\n",
        "        messages,\n",
        "        sampling_params,\n",
        "        continue_final_message=True,\n",
        "        add_generation_prompt=False,\n",
        "        use_tqdm=False,\n",
        "    )\n",
        "    return outputs[0].outputs[0].text"
      ]
    },
    {
      "cell_type": "code",
      "execution_count": null,
      "metadata": {},
      "outputs": [
        {
          "ename": "",
          "evalue": "",
          "output_type": "error",
          "traceback": [
            "\u001b[1;31mRunning cells with '/usr/bin/python3' requires the ipykernel package.\n",
            "\u001b[1;31mRun the following command to install 'ipykernel' into the Python environment. \n",
            "\u001b[1;31mCommand: '/usr/bin/python3 -m pip install ipykernel -U --user --force-reinstall'"
          ]
        }
      ],
      "source": [
        "prefill = \"\"\"\n",
        "<think>\n",
        "First, I need to determine how many clips Natalia sold in April. She sold 48 clips to her friends in April.\n",
        "\n",
        "Next, in May, she sold half as many clips as she did in April. So, half of 48 is 24.\n",
        "\n",
        "Finally, to find the total number of clips sold in both months, I'll add the April sales to the May sales: 48 plus 24 equals 72.\n",
        "</think>\n",
        "\n",
        "\"\"\".strip()\n",
        "\n",
        "messages = [\n",
        "    {\"role\": \"user\", \"content\": prompt},\n",
        "    {\"role\": \"assistant\", \"content\": prefill},\n",
        "]\n",
        "\n",
        "chat_completion(messages)"
      ]
    },
    {
      "cell_type": "code",
      "execution_count": null,
      "metadata": {},
      "outputs": [
        {
          "ename": "",
          "evalue": "",
          "output_type": "error",
          "traceback": [
            "\u001b[1;31mRunning cells with '/usr/bin/python3' requires the ipykernel package.\n",
            "\u001b[1;31mRun the following command to install 'ipykernel' into the Python environment. \n",
            "\u001b[1;31mCommand: '/usr/bin/python3 -m pip install ipykernel -U --user --force-reinstall'"
          ]
        }
      ],
      "source": [
        "# compare baseline completion vs thinking budget completion by completion length and answer correctness\n",
        "# Function to get baseline completion without thinking budget\n",
        "def generate_baseline(prompt):\n",
        "    messages = [\n",
        "        {\"role\": \"user\", \"content\": prompt},\n",
        "        {\"role\": \"assistant\", \"content\": \"<think>\\n\"},\n",
        "    ]\n",
        "    return chat_completion(messages)"
      ]
    },
    {
      "cell_type": "code",
      "execution_count": null,
      "metadata": {},
      "outputs": [
        {
          "ename": "",
          "evalue": "",
          "output_type": "error",
          "traceback": [
            "\u001b[1;31mRunning cells with '/usr/bin/python3' requires the ipykernel package.\n",
            "\u001b[1;31mRun the following command to install 'ipykernel' into the Python environment. \n",
            "\u001b[1;31mCommand: '/usr/bin/python3 -m pip install ipykernel -U --user --force-reinstall'"
          ]
        }
      ],
      "source": [
        "example = ds[0]\n",
        "prompt = example['question']\n",
        "print(prompt)"
      ]
    },
    {
      "cell_type": "code",
      "execution_count": null,
      "metadata": {
        "id": "hzPrJMIhj0l9"
      },
      "outputs": [
        {
          "ename": "",
          "evalue": "",
          "output_type": "error",
          "traceback": [
            "\u001b[1;31mRunning cells with '/usr/bin/python3' requires the ipykernel package.\n",
            "\u001b[1;31mRun the following command to install 'ipykernel' into the Python environment. \n",
            "\u001b[1;31mCommand: '/usr/bin/python3 -m pip install ipykernel -U --user --force-reinstall'"
          ]
        }
      ],
      "source": [
        "response = generate_baseline(prompt)\n",
        "print(response)\n"
      ]
    },
    {
      "cell_type": "code",
      "execution_count": null,
      "metadata": {
        "id": "IncQ5KUfmo8o"
      },
      "outputs": [
        {
          "ename": "",
          "evalue": "",
          "output_type": "error",
          "traceback": [
            "\u001b[1;31mRunning cells with '/usr/bin/python3' requires the ipykernel package.\n",
            "\u001b[1;31mRun the following command to install 'ipykernel' into the Python environment. \n",
            "\u001b[1;31mCommand: '/usr/bin/python3 -m pip install ipykernel -U --user --force-reinstall'"
          ]
        }
      ],
      "source": [
        "def generate_with_thinking_budget(prompt, num_steps=10, tokens_per_step=50):\n",
        "    \"\"\"\n",
        "    Generate a response with controlled thinking budget.\n",
        "\n",
        "    Args:\n",
        "        prompt: The user prompt to respond to\n",
        "        num_steps: Number of thinking steps to use\n",
        "        tokens_per_step: Maximum tokens to generate per thinking step\n",
        "\n",
        "    Returns:\n",
        "        The final generated text with thinking steps and answer\n",
        "    \"\"\"\n",
        "    # Start with the basic conversation\n",
        "    messages = [\n",
        "        {\"role\": \"user\", \"content\": prompt},\n",
        "    ]\n",
        "\n",
        "    # Initialize with the first thinking step\n",
        "    initial_content = f\"<think progress=1/{num_steps}>\\n\"\n",
        "    assistant_msg = {\"role\": \"assistant\", \"content\": initial_content}\n",
        "    messages.append(assistant_msg)\n",
        "\n",
        "    # Track the complete response\n",
        "    full_response = initial_content\n",
        "\n",
        "    # Generate each thinking step iteratively\n",
        "    for step in range(1, num_steps + 1):\n",
        "        # Generate the next chunk of thinking\n",
        "        step_response = chat_completion(messages, max_tokens=tokens_per_step)\n",
        "\n",
        "        # Update our full response with this step's generation\n",
        "        full_response += step_response\n",
        "\n",
        "        # Check if thinking has naturally concluded\n",
        "        if \"</think>\" in step_response:\n",
        "            # If the model has finished thinking, we're done with the thinking steps\n",
        "            print(\"Thinking completed naturally\")\n",
        "            break\n",
        "\n",
        "        # Prepare for the next step if we're not at the end\n",
        "        if step < num_steps:\n",
        "            # Update the step number in the response content\n",
        "            current_tag = f\"<think progress={step}/{num_steps}>\"\n",
        "            next_tag = f\"<think progress={step + 1}/{num_steps}>\"\n",
        "            updated_content = full_response.replace(current_tag, next_tag)\n",
        "\n",
        "            # Update the assistant's message with the new content\n",
        "            messages[-1][\"content\"] = updated_content\n",
        "            full_response = updated_content\n",
        "\n",
        "    # Check if thinking completed naturally\n",
        "    if \"</think>\" not in full_response:\n",
        "        # Force close the thinking tag if it wasn't closed\n",
        "        full_response += \"\\n</think>\\n\"\n",
        "        messages[-1][\"content\"] = full_response\n",
        "    print(full_response)\n",
        "    # Generate the final answer with larger token limit\n",
        "    final_answer = chat_completion(messages, max_tokens=512)\n",
        "    full_response += final_answer\n",
        "\n",
        "    return full_response\n"
      ]
    },
    {
      "cell_type": "code",
      "execution_count": null,
      "metadata": {
        "id": "j1wurTArqRMq"
      },
      "outputs": [
        {
          "ename": "",
          "evalue": "",
          "output_type": "error",
          "traceback": [
            "\u001b[1;31mRunning cells with '/usr/bin/python3' requires the ipykernel package.\n",
            "\u001b[1;31mRun the following command to install 'ipykernel' into the Python environment. \n",
            "\u001b[1;31mCommand: '/usr/bin/python3 -m pip install ipykernel -U --user --force-reinstall'"
          ]
        }
      ],
      "source": [
        "response = generate_with_thinking_budget(prompt, num_steps=10, tokens_per_step=10)\n",
        "print(response)\n"
      ]
    },
    {
      "cell_type": "code",
      "execution_count": null,
      "metadata": {
        "id": "MuG1TekwqTAJ"
      },
      "outputs": [
        {
          "ename": "",
          "evalue": "",
          "output_type": "error",
          "traceback": [
            "\u001b[1;31mRunning cells with '/usr/bin/python3' requires the ipykernel package.\n",
            "\u001b[1;31mRun the following command to install 'ipykernel' into the Python environment. \n",
            "\u001b[1;31mCommand: '/usr/bin/python3 -m pip install ipykernel -U --user --force-reinstall'"
          ]
        }
      ],
      "source": [
        "# Get completions for multiple examples\n",
        "num_examples = 10\n",
        "results = []\n",
        "\n",
        "for i in range(num_examples):\n",
        "    example = ds[i]\n",
        "    prompt = example['question']\n",
        "    \n",
        "    # Generate both types of completions\n",
        "    baseline = generate_baseline(prompt)\n",
        "    thinking = generate_with_thinking_budget(prompt, num_steps=10, tokens_per_step=10)\n",
        "    \n",
        "    # Compare lengths\n",
        "    baseline_length = len(baseline.split())\n",
        "    thinking_length = len(thinking.split())\n",
        "    \n",
        "    # Extract final answers (assuming they end with #### number format)\n",
        "    baseline_answer = baseline.split('####')[-1].strip() if '####' in baseline else None\n",
        "    thinking_answer = thinking.split('####')[-1].strip() if '####' in thinking else None\n",
        "    \n",
        "    # Compare with ground truth\n",
        "    correct_answer = example['answer'].split('####')[-1].strip()\n",
        "    baseline_correct = baseline_answer == correct_answer if baseline_answer else False\n",
        "    thinking_correct = thinking_answer == correct_answer if thinking_answer else False\n",
        "    \n",
        "    results.append({\n",
        "        'baseline_length': baseline_length,\n",
        "        'thinking_length': thinking_length,\n",
        "        'baseline_correct': baseline_correct,\n",
        "        'thinking_correct': thinking_correct\n",
        "    })\n",
        "\n",
        "# Calculate aggregate statistics\n",
        "avg_baseline_length = sum(r['baseline_length'] for r in results) / len(results)\n",
        "avg_thinking_length = sum(r['thinking_length'] for r in results) / len(results)\n",
        "baseline_accuracy = sum(1 for r in results if r['baseline_correct']) / len(results)\n",
        "thinking_accuracy = sum(1 for r in results if r['thinking_correct']) / len(results)\n",
        "\n",
        "print(f\"Average completion lengths:\")\n",
        "print(f\"Baseline: {avg_baseline_length:.1f} words\")\n",
        "print(f\"Thinking Budget: {avg_thinking_length:.1f} words\")\n",
        "print(f\"\\nAnswer accuracy:\")\n",
        "print(f\"Baseline: {baseline_accuracy:.1%}\")\n",
        "print(f\"Thinking Budget: {thinking_accuracy:.1%}\")\n",
        "\n"
      ]
    },
    {
      "cell_type": "code",
      "execution_count": null,
      "metadata": {},
      "outputs": [
        {
          "ename": "",
          "evalue": "",
          "output_type": "error",
          "traceback": [
            "\u001b[1;31mRunning cells with '/usr/bin/python3' requires the ipykernel package.\n",
            "\u001b[1;31mRun the following command to install 'ipykernel' into the Python environment. \n",
            "\u001b[1;31mCommand: '/usr/bin/python3 -m pip install ipykernel -U --user --force-reinstall'"
          ]
        }
      ],
      "source": []
    }
  ],
  "metadata": {
    "accelerator": "GPU",
    "colab": {
      "gpuType": "T4",
      "private_outputs": true,
      "provenance": []
    },
    "kernelspec": {
      "display_name": "Python 3",
      "name": "python3"
    },
    "language_info": {
      "name": "python"
    }
  },
  "nbformat": 4,
  "nbformat_minor": 0
}
